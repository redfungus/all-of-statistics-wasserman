{
 "metadata": {
  "orig_nbformat": 2,
  "kernelspec": {
   "name": "python3",
   "display_name": "Python 3",
   "language": "python"
  }
 },
 "nbformat": 4,
 "nbformat_minor": 2,
 "cells": [
  {
   "cell_type": "code",
   "execution_count": 1,
   "metadata": {},
   "outputs": [
    {
     "output_type": "execute_result",
     "data": {
      "text/plain": [
       "DataTransformerRegistry.enable('default')"
      ]
     },
     "metadata": {},
     "execution_count": 1
    }
   ],
   "source": [
    "import math\n",
    "import numpy as np\n",
    "import altair as alt\n",
    "import pandas as pd\n",
    "from scipy.stats import uniform, norm\n",
    "from statsmodels.distributions.empirical_distribution import ECDF\n",
    "alt.data_transformers.disable_max_rows()"
   ]
  },
  {
   "source": [
    "fname = '../data/clouds.dat'"
   ],
   "cell_type": "code",
   "metadata": {},
   "execution_count": 2,
   "outputs": []
  },
  {
   "cell_type": "code",
   "execution_count": 3,
   "metadata": {},
   "outputs": [],
   "source": [
    "df = pd.read_csv(fname, sep=\"\\s+\")"
   ]
  },
  {
   "cell_type": "code",
   "execution_count": 11,
   "metadata": {},
   "outputs": [],
   "source": [
    "n = len(df)"
   ]
  },
  {
   "cell_type": "code",
   "execution_count": 24,
   "metadata": {},
   "outputs": [],
   "source": [
    "unseeded_mean_estimate = df['Unseeded_Clouds'].mean()"
   ]
  },
  {
   "cell_type": "code",
   "execution_count": 25,
   "metadata": {},
   "outputs": [],
   "source": [
    "seeded_mean_estimate = df['Seeded_Clouds'].mean()"
   ]
  },
  {
   "cell_type": "code",
   "execution_count": 26,
   "metadata": {},
   "outputs": [],
   "source": [
    "# Theta = seeded_mean - unseeded_mean\n",
    "theta_estimate = seeded_mean_estimate - unseeded_mean_estimate"
   ]
  },
  {
   "cell_type": "code",
   "execution_count": 27,
   "metadata": {},
   "outputs": [],
   "source": [
    "# V(theta) = variance(seeded_mean) - variance(unseeded_mean)\n",
    "#          = variance(seeded) / n - variance(unseeded) / n\n",
    "\n",
    "unseeded_variance_estimate = df['Unseeded_Clouds'].var()\n",
    "seeded_variance_estimate = df['Seeded_Clouds'].var()\n",
    "\n",
    "theta_se = math.sqrt(\n",
    "    (seeded_variance_estimate - unseeded_variance_estimate) / n\n",
    "    )"
   ]
  },
  {
   "cell_type": "code",
   "execution_count": 28,
   "metadata": {},
   "outputs": [],
   "source": [
    "z_95 = norm.ppf(0.975)"
   ]
  },
  {
   "cell_type": "code",
   "execution_count": 30,
   "metadata": {},
   "outputs": [],
   "source": [
    "confidence_interval = (\n",
    "    theta_estimate - z_95 * theta_se, \n",
    "    theta_estimate + z_95 * theta_se\n",
    ")"
   ]
  },
  {
   "cell_type": "code",
   "execution_count": 31,
   "metadata": {},
   "outputs": [
    {
     "output_type": "stream",
     "name": "stdout",
     "text": [
      "Theta: 277.3961538461539\nTheta Standard Error: 115.35941818979825\n95% Confindence Interval: (51.295848916654506, 503.49645877565325)\n"
     ]
    }
   ],
   "source": [
    "print(\"Theta:\", theta_estimate)\n",
    "print(\"Theta Standard Error:\", theta_se)\n",
    "print(\"95% Confindence Interval:\", confidence_interval)"
   ]
  },
  {
   "cell_type": "code",
   "execution_count": null,
   "metadata": {},
   "outputs": [],
   "source": []
  }
 ]
}