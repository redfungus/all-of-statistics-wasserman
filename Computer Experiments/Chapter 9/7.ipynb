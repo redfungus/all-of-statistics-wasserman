{
 "metadata": {
  "language_info": {
   "codemirror_mode": {
    "name": "ipython",
    "version": 3
   },
   "file_extension": ".py",
   "mimetype": "text/x-python",
   "name": "python",
   "nbconvert_exporter": "python",
   "pygments_lexer": "ipython3",
   "version": "3.8.6"
  },
  "orig_nbformat": 4,
  "kernelspec": {
   "name": "python3",
   "display_name": "Python 3.8.6 64-bit"
  },
  "interpreter": {
   "hash": "4cd7ab41f5fca4b9b44701077e38c5ffd31fe66a6cab21e0214b68d958d0e462"
  }
 },
 "nbformat": 4,
 "nbformat_minor": 2,
 "cells": [
  {
   "cell_type": "code",
   "execution_count": 33,
   "metadata": {},
   "outputs": [
    {
     "output_type": "execute_result",
     "data": {
      "text/plain": [
       "DataTransformerRegistry.enable('default')"
      ]
     },
     "metadata": {},
     "execution_count": 33
    }
   ],
   "source": [
    "import numpy as np\n",
    "import altair as alt\n",
    "import pandas as pd\n",
    "import scipy\n",
    "from scipy.stats import norm, lognorm\n",
    "import math\n",
    "alt.data_transformers.disable_max_rows()"
   ]
  },
  {
   "cell_type": "code",
   "execution_count": 34,
   "metadata": {},
   "outputs": [],
   "source": [
    "B = 10000"
   ]
  },
  {
   "cell_type": "code",
   "execution_count": 35,
   "metadata": {},
   "outputs": [],
   "source": [
    "n1 = 200"
   ]
  },
  {
   "cell_type": "code",
   "execution_count": 36,
   "metadata": {},
   "outputs": [],
   "source": [
    "n2 = 200"
   ]
  },
  {
   "cell_type": "code",
   "execution_count": 37,
   "metadata": {},
   "outputs": [],
   "source": [
    "X1 = 160"
   ]
  },
  {
   "cell_type": "code",
   "execution_count": 38,
   "metadata": {},
   "outputs": [],
   "source": [
    "X2 = 148"
   ]
  },
  {
   "cell_type": "code",
   "execution_count": 39,
   "metadata": {},
   "outputs": [],
   "source": [
    "alpha = 0.1"
   ]
  },
  {
   "cell_type": "code",
   "execution_count": 40,
   "metadata": {},
   "outputs": [],
   "source": [
    "z_alpha_2 = norm.ppf(1-(alpha/2))"
   ]
  },
  {
   "cell_type": "code",
   "execution_count": 41,
   "metadata": {},
   "outputs": [],
   "source": [
    "p1_hat = X1 / n1"
   ]
  },
  {
   "cell_type": "code",
   "execution_count": 42,
   "metadata": {},
   "outputs": [],
   "source": [
    "p2_hat = X2 / n2"
   ]
  },
  {
   "cell_type": "code",
   "execution_count": 43,
   "metadata": {},
   "outputs": [],
   "source": [
    "theta_hat = p1_hat - p2_hat"
   ]
  },
  {
   "cell_type": "code",
   "execution_count": 44,
   "metadata": {},
   "outputs": [],
   "source": [
    "bootstraps = []\n",
    "for i in range(B):\n",
    "    p1_hat_b = np.random.binomial(n1, p1_hat) / n1\n",
    "    p2_hat_b = np.random.binomial(n2, p2_hat) / n2\n",
    "    theta_hat_b = p1_hat_b - p2_hat_b\n",
    "    bootstraps.append(theta_hat_b)"
   ]
  },
  {
   "cell_type": "code",
   "execution_count": 50,
   "metadata": {},
   "outputs": [],
   "source": [
    "se_hat_bootstrap = np.std(bootstraps)"
   ]
  },
  {
   "cell_type": "code",
   "execution_count": 51,
   "metadata": {},
   "outputs": [
    {
     "output_type": "stream",
     "name": "stdout",
     "text": [
      "Estimated Standard Error: 0.04213586642932598\n"
     ]
    }
   ],
   "source": [
    "print(\"Estimated Standard Error:\", se_hat_bootstrap)"
   ]
  },
  {
   "cell_type": "code",
   "execution_count": 52,
   "metadata": {},
   "outputs": [],
   "source": [
    "normal_confidence_interval = (\n",
    "    theta_hat - z_alpha_2 * se_hat_bootstrap, \n",
    "    theta_hat + z_alpha_2 * se_hat_bootstrap\n",
    ")"
   ]
  },
  {
   "cell_type": "code",
   "execution_count": 55,
   "metadata": {},
   "outputs": [],
   "source": [
    "se_delta = np.sqrt(\n",
    "    p1_hat * (1 - p1_hat)/n1 + p2_hat * (1 - p2_hat) / n2\n",
    ")"
   ]
  },
  {
   "cell_type": "code",
   "execution_count": 56,
   "metadata": {},
   "outputs": [],
   "source": [
    "delta_confidence_interval = (\n",
    "    theta_hat - z_alpha_2 * se_delta, \n",
    "    theta_hat + z_alpha_2 * se_delta\n",
    ")"
   ]
  },
  {
   "cell_type": "code",
   "execution_count": 57,
   "metadata": {},
   "outputs": [
    {
     "output_type": "stream",
     "name": "stdout",
     "text": [
      "Estimated Theta: 0.06000000000000005\n90.0% Confidence Intervals:\nParamteric Bootstrap: (-0.009307332721019565, 0.12930733272101969)\nDelta Method: (-0.009307332721019565, 0.12930733272101969)\n"
     ]
    }
   ],
   "source": [
    "print(\"Estimated Theta:\", theta_hat)\n",
    "\n",
    "print(f\"{(1-alpha)*100}% Confidence Intervals:\")\n",
    "\n",
    "print(\"Paramteric Bootstrap:\", normal_confidence_interval)\n",
    "print(\"Delta Method:\", normal_confidence_interval)"
   ]
  },
  {
   "cell_type": "code",
   "execution_count": null,
   "metadata": {},
   "outputs": [],
   "source": []
  }
 ]
}