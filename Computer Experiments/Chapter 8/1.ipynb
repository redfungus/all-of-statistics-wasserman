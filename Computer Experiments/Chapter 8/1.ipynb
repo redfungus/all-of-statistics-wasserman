{
 "metadata": {
  "language_info": {
   "codemirror_mode": {
    "name": "ipython",
    "version": 3
   },
   "file_extension": ".py",
   "mimetype": "text/x-python",
   "name": "python",
   "nbconvert_exporter": "python",
   "pygments_lexer": "ipython3",
   "version": "3.8.9"
  },
  "orig_nbformat": 2,
  "kernelspec": {
   "name": "python389jvsc74a57bd04cd7ab41f5fca4b9b44701077e38c5ffd31fe66a6cab21e0214b68d958d0e462",
   "display_name": "Python 3.8.9 64-bit ('local')"
  }
 },
 "nbformat": 4,
 "nbformat_minor": 2,
 "cells": [
  {
   "cell_type": "code",
   "execution_count": 1,
   "metadata": {},
   "outputs": [
    {
     "output_type": "execute_result",
     "data": {
      "text/plain": [
       "DataTransformerRegistry.enable('default')"
      ]
     },
     "metadata": {},
     "execution_count": 1
    }
   ],
   "source": [
    "import numpy as np\n",
    "import altair as alt\n",
    "import pandas as pd\n",
    "from scipy.stats import norm\n",
    "import math\n",
    "alt.data_transformers.disable_max_rows()"
   ]
  },
  {
   "cell_type": "code",
   "execution_count": 2,
   "metadata": {},
   "outputs": [],
   "source": [
    "LSAT = [576, 635, 558, 578, 666, 580, 555, 661, 651, 605, 653, 575, 545, 572, 594]"
   ]
  },
  {
   "cell_type": "code",
   "execution_count": 3,
   "metadata": {},
   "outputs": [],
   "source": [
    "GPA = [3.39, 3.30, 2.81, 3.03, 3.44, 3.07, 3.00, 3.43, 3.36, 3.13, 3.12, 2.74, 2.76, 2.88, 3.96]"
   ]
  },
  {
   "cell_type": "code",
   "execution_count": 4,
   "metadata": {},
   "outputs": [],
   "source": [
    "df = pd.DataFrame({\n",
    "    \"lsat\": LSAT,\n",
    "    \"gpa\": GPA\n",
    "})"
   ]
  },
  {
   "cell_type": "code",
   "execution_count": 5,
   "metadata": {},
   "outputs": [],
   "source": [
    "alpha = 0.05"
   ]
  },
  {
   "cell_type": "code",
   "execution_count": 6,
   "metadata": {},
   "outputs": [],
   "source": [
    "B = 1000"
   ]
  },
  {
   "cell_type": "code",
   "execution_count": 7,
   "metadata": {},
   "outputs": [],
   "source": [
    "theta_hat = df['lsat'].corr(df['gpa'])"
   ]
  },
  {
   "cell_type": "code",
   "execution_count": 8,
   "metadata": {},
   "outputs": [],
   "source": [
    "bootstraps = []\n",
    "for i in range(B):\n",
    "    df_bootstrapped = pd.DataFrame({\n",
    "    \"lsat\": np.random.choice(LSAT, replace=True, size=len(LSAT)),\n",
    "    \"gpa\": np.random.choice(GPA, replace=True, size=len(GPA)),\n",
    "    })\n",
    "    theta_hat_b = df_bootstrapped['lsat'].corr(df_bootstrapped['gpa'])\n",
    "    bootstraps.append(theta_hat_b)"
   ]
  },
  {
   "cell_type": "code",
   "execution_count": 9,
   "metadata": {},
   "outputs": [],
   "source": [
    "se = math.sqrt(np.var(bootstraps))"
   ]
  },
  {
   "cell_type": "code",
   "execution_count": 10,
   "metadata": {},
   "outputs": [
    {
     "output_type": "stream",
     "name": "stdout",
     "text": [
      "Estimated Standard Error: 0.2602081366715113\n"
     ]
    }
   ],
   "source": [
    "print(\"Estimated Standard Error:\", se)"
   ]
  },
  {
   "cell_type": "code",
   "execution_count": 11,
   "metadata": {},
   "outputs": [],
   "source": [
    "z_alpha_2 = norm.ppf(1-(alpha/2))"
   ]
  },
  {
   "source": [
    "bootstrap_lower_quantile = np.quantile(bootstraps, alpha/2)"
   ],
   "cell_type": "code",
   "metadata": {},
   "execution_count": 12,
   "outputs": []
  },
  {
   "cell_type": "code",
   "execution_count": 13,
   "metadata": {},
   "outputs": [],
   "source": [
    "bootstrap_upper_quantile = np.quantile(bootstraps, 1-(alpha/2))"
   ]
  },
  {
   "cell_type": "code",
   "execution_count": 14,
   "metadata": {},
   "outputs": [],
   "source": [
    "normal_confidence_interval = (theta_hat - z_alpha_2 * se, theta_hat + z_alpha_2 * se)\n",
    "pivotal_confidence_interval = (2*theta_hat - bootstrap_upper_quantile, 2*theta_hat - bootstrap_lower_quantile)\n",
    "percentile_confidence_interval = (bootstrap_lower_quantile, bootstrap_upper_quantile)"
   ]
  },
  {
   "cell_type": "code",
   "execution_count": 15,
   "metadata": {},
   "outputs": [
    {
     "output_type": "stream",
     "name": "stdout",
     "text": [
      "Estimated Theta: 0.5459189161795887\n95.0% Confidence Intervals:\nNormal: (0.035920339819150326, 1.055917492540027)\nPivotal: (0.5837973893900142, 1.593619395743636)\nQuantile: (-0.5017815633844587, 0.5080404429691631)\n"
     ]
    }
   ],
   "source": [
    "print(\"Estimated Theta:\", theta_hat)\n",
    "\n",
    "print(f\"{(1-alpha)*100}% Confidence Intervals:\")\n",
    "\n",
    "print(\"Normal:\", normal_confidence_interval)\n",
    "print(\"Pivotal:\", pivotal_confidence_interval)\n",
    "print(\"Percentile:\", quantile_confidence_interval)"
   ]
  },
  {
   "cell_type": "code",
   "execution_count": null,
   "metadata": {},
   "outputs": [],
   "source": []
  }
 ]
}