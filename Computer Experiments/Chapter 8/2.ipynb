{
 "metadata": {
  "language_info": {
   "codemirror_mode": {
    "name": "ipython",
    "version": 3
   },
   "file_extension": ".py",
   "mimetype": "text/x-python",
   "name": "python",
   "nbconvert_exporter": "python",
   "pygments_lexer": "ipython3",
   "version": "3.8.9"
  },
  "orig_nbformat": 2,
  "kernelspec": {
   "name": "python389jvsc74a57bd04cd7ab41f5fca4b9b44701077e38c5ffd31fe66a6cab21e0214b68d958d0e462",
   "display_name": "Python 3.8.9 64-bit ('local')"
  }
 },
 "nbformat": 4,
 "nbformat_minor": 2,
 "cells": [
  {
   "cell_type": "code",
   "execution_count": 1,
   "metadata": {},
   "outputs": [
    {
     "output_type": "execute_result",
     "data": {
      "text/plain": [
       "DataTransformerRegistry.enable('default')"
      ]
     },
     "metadata": {},
     "execution_count": 1
    }
   ],
   "source": [
    "import numpy as np\n",
    "import altair as alt\n",
    "import pandas as pd\n",
    "import scipy\n",
    "from scipy.stats import norm\n",
    "import math\n",
    "alt.data_transformers.disable_max_rows()"
   ]
  },
  {
   "cell_type": "code",
   "execution_count": 2,
   "metadata": {},
   "outputs": [],
   "source": [
    "experiments = 10"
   ]
  },
  {
   "cell_type": "code",
   "execution_count": 3,
   "metadata": {},
   "outputs": [],
   "source": [
    "alpha = 0.05"
   ]
  },
  {
   "cell_type": "code",
   "execution_count": 4,
   "metadata": {},
   "outputs": [],
   "source": [
    "n = 50"
   ]
  },
  {
   "cell_type": "code",
   "execution_count": 5,
   "metadata": {},
   "outputs": [],
   "source": [
    "B = 100_000"
   ]
  },
  {
   "cell_type": "code",
   "execution_count": 6,
   "metadata": {},
   "outputs": [],
   "source": [
    "y_list = np.random.normal(size=n)"
   ]
  },
  {
   "cell_type": "code",
   "execution_count": 7,
   "metadata": {},
   "outputs": [],
   "source": [
    "x_list = [math.exp(y) for y in y_list]"
   ]
  },
  {
   "cell_type": "code",
   "execution_count": 8,
   "metadata": {},
   "outputs": [],
   "source": [
    "theta_hat = scipy.stats.skew(x_list)"
   ]
  },
  {
   "cell_type": "code",
   "execution_count": 22,
   "metadata": {},
   "outputs": [],
   "source": [
    "bootstraps = []\n",
    "for i in range(B):\n",
    "    theta_hat_b = scipy.stats.skew(np.random.choice(x_list, replace=True, size=len(x_list)))\n",
    "    bootstraps.append(theta_hat_b)"
   ]
  },
  {
   "cell_type": "code",
   "execution_count": 23,
   "metadata": {},
   "outputs": [],
   "source": [
    "se = math.sqrt(np.var(bootstraps))"
   ]
  },
  {
   "cell_type": "code",
   "execution_count": 24,
   "metadata": {},
   "outputs": [
    {
     "output_type": "stream",
     "name": "stdout",
     "text": [
      "Estimated Standard Error: 0.38136019362503243\n"
     ]
    }
   ],
   "source": [
    "print(\"Estimated Standard Error:\", se)"
   ]
  },
  {
   "cell_type": "code",
   "execution_count": 25,
   "metadata": {},
   "outputs": [],
   "source": [
    "z_alpha_2 = norm.ppf(1-(alpha/2))"
   ]
  },
  {
   "cell_type": "code",
   "execution_count": 26,
   "metadata": {},
   "outputs": [],
   "source": [
    "bootstrap_lower_quantile= np.quantile(bootstraps, alpha/2)\n",
    "\n",
    "bootstrap_upper_quantile = np.quantile(bootstraps, 1-(alpha/2))"
   ]
  },
  {
   "cell_type": "code",
   "execution_count": 27,
   "metadata": {},
   "outputs": [],
   "source": [
    "normal_confidence_interval = (theta_hat - z_alpha_2 * se, theta_hat + z_alpha_2 * se)\n",
    "pivotal_confidence_interval = (2*theta_hat - bootstrap_upper_quantile, 2*theta_hat - bootstrap_lower_quantile)\n",
    "percentile_confidence_interval = (bootstrap_lower_quantile, bootstrap_upper_quantile)"
   ]
  },
  {
   "cell_type": "code",
   "execution_count": 28,
   "metadata": {},
   "outputs": [],
   "source": [
    "true_skewness = (math.exp(1) + 2)*math.sqrt(math.exp(1) - 1)"
   ]
  },
  {
   "cell_type": "code",
   "execution_count": 31,
   "metadata": {},
   "outputs": [
    {
     "output_type": "stream",
     "name": "stdout",
     "text": [
      "True Theta: 6.184877138632554\n"
     ]
    }
   ],
   "source": [
    "print(\"True Theta:\", true_skewness)"
   ]
  },
  {
   "cell_type": "code",
   "execution_count": 32,
   "metadata": {},
   "outputs": [
    {
     "output_type": "stream",
     "name": "stdout",
     "text": [
      "Estimated Theta: 1.8306584605870668\n95.0% Confidence Intervals:\nNormal: (1.0832062159447817, 2.578110705229352)\nPivotal: (1.0469209847184486, 2.54437819165088)\nPercentile: (1.1169387295232533, 2.614395936455685)\n"
     ]
    }
   ],
   "source": [
    "print(\"Estimated Theta:\", theta_hat)\n",
    "\n",
    "print(f\"{(1-alpha)*100}% Confidence Intervals:\")\n",
    "\n",
    "print(\"Normal:\", normal_confidence_interval)\n",
    "print(\"Pivotal:\", pivotal_confidence_interval)\n",
    "print(\"Percentile:\", percentile_confidence_interval)"
   ]
  },
  {
   "cell_type": "code",
   "execution_count": 34,
   "metadata": {},
   "outputs": [
    {
     "output_type": "stream",
     "name": "stdout",
     "text": [
      "Confidence Intervals Coverage:\nNormal 1\nPivotal 2\nPercentile 0\n"
     ]
    }
   ],
   "source": [
    "normal_ci_count = 0\n",
    "pivotal_ci_count = 0\n",
    "percentile_ci_count = 0\n",
    "\n",
    "for i in range(experiments):\n",
    "    y_list = np.random.normal(size=n)\n",
    "    x_list = [math.exp(y) for y in y_list]\n",
    "    theta_hat = scipy.stats.skew(x_list)\n",
    "\n",
    "    true_skewness = (math.exp(1) + 2)*math.sqrt(math.exp(1) - 1)\n",
    "\n",
    "    bootstraps = []\n",
    "    for i in range(B):\n",
    "        theta_hat_b = scipy.stats.skew(np.random.choice(x_list, replace=True, size=len(x_list)))\n",
    "        bootstraps.append(theta_hat_b)\n",
    "\n",
    "    se = math.sqrt(np.var(bootstraps))\n",
    "    z_alpha_2 = norm.ppf(1-(alpha/2))\n",
    "    bootstrap_lower_quantile = np.quantile(bootstraps, alpha/2)\n",
    "    bootstrap_upper_quantile = np.quantile(bootstraps, 1-(alpha/2))\n",
    "\n",
    "    normal_confidence_interval = (theta_hat - z_alpha_2 * se, theta_hat + z_alpha_2 * se)\n",
    "    pivotal_confidence_interval = (2*theta_hat - bootstrap_upper_quantile, 2*theta_hat - bootstrap_lower_quantile)\n",
    "    percentile_confidence_interval = (bootstrap_lower_quantile, bootstrap_upper_quantile)\n",
    "\n",
    "    if normal_confidence_interval[0] <= true_skewness <= normal_confidence_interval[1]:\n",
    "        normal_ci_count += 1\n",
    "\n",
    "    if pivotal_confidence_interval[0] <= true_skewness <= pivotal_confidence_interval[1]:\n",
    "        pivotal_ci_count += 1\n",
    "        \n",
    "    if percentile_confidence_interval[0] <= true_skewness <= percentile_confidence_interval[1]:\n",
    "        percentile_ci_count += 1\n",
    "\n",
    "print(\"Confidence Intervals Coverage:\")\n",
    "\n",
    "print(\"Normal\", normal_ci_count)\n",
    "print(\"Pivotal\", pivotal_ci_count)\n",
    "print(\"Percentile\", percentile_ci_count)\n"
   ]
  },
  {
   "cell_type": "code",
   "execution_count": null,
   "metadata": {},
   "outputs": [],
   "source": []
  },
  {
   "cell_type": "code",
   "execution_count": null,
   "metadata": {},
   "outputs": [],
   "source": []
  }
 ]
}