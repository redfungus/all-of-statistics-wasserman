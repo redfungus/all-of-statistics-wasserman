{
 "metadata": {
  "language_info": {
   "codemirror_mode": {
    "name": "ipython",
    "version": 3
   },
   "file_extension": ".py",
   "mimetype": "text/x-python",
   "name": "python",
   "nbconvert_exporter": "python",
   "pygments_lexer": "ipython3",
   "version": "3.8.6-final"
  },
  "orig_nbformat": 2,
  "kernelspec": {
   "name": "python3",
   "display_name": "Python 3.8.6 64-bit",
   "metadata": {
    "interpreter": {
     "hash": "4cd7ab41f5fca4b9b44701077e38c5ffd31fe66a6cab21e0214b68d958d0e462"
    }
   }
  }
 },
 "nbformat": 4,
 "nbformat_minor": 2,
 "cells": [
  {
   "cell_type": "code",
   "execution_count": 1,
   "metadata": {},
   "outputs": [],
   "source": [
    "import numpy as np"
   ]
  },
  {
   "cell_type": "code",
   "execution_count": 65,
   "metadata": {},
   "outputs": [],
   "source": [
    "np.random.seed(23)\n",
    "\n",
    "def compare_independence(A, B, n):\n",
    "\n",
    "    AB = [a for a in A if a in B]\n",
    "\n",
    "    rolls = np.random.randint(low=1, high=7, size=n)\n",
    "\n",
    "    p_hat_A = np.where(np.isin(rolls, A), 1, 0).sum() / n\n",
    "    p_hat_B = np.where(np.isin(rolls, B), 1, 0).sum() / n\n",
    "    p_hat_AB_experiment = np.where(np.isin(rolls, AB), 1, 0).sum() / n\n",
    "\n",
    "    p_hat_AB_theoritical = p_hat_A * p_hat_B\n",
    "\n",
    "    print(f\"P hat A: {p_hat_A}\")\n",
    "    print(f\"P hat B: {p_hat_B}\")\n",
    "    print(f\"P hat experimental value: {p_hat_AB_experiment}\")\n",
    "    print(f\"P hat theoritical value: {p_hat_AB_theoritical}\")\n"
   ]
  },
  {
   "cell_type": "code",
   "execution_count": 66,
   "metadata": {},
   "outputs": [],
   "source": [
    "n = 100000"
   ]
  },
  {
   "cell_type": "code",
   "execution_count": 67,
   "metadata": {},
   "outputs": [
    {
     "output_type": "stream",
     "name": "stdout",
     "text": [
      "P hat A: 0.49803\nP hat B: 0.66937\nP hat experimental value: 0.33341\nP hat theoritical value: 0.3333663411\n"
     ]
    }
   ],
   "source": [
    "A = [2, 4, 6]\n",
    "B = [1, 2, 3, 4]\n",
    "\n",
    "compare_independence(A, B, n)"
   ]
  },
  {
   "cell_type": "code",
   "execution_count": 68,
   "metadata": {},
   "outputs": [
    {
     "output_type": "stream",
     "name": "stdout",
     "text": [
      "P hat A: 0.33397\nP hat B: 0.66813\nP hat experimental value: 0.33397\nP hat theoritical value: 0.2231353761\n"
     ]
    }
   ],
   "source": [
    "A = [2, 4]\n",
    "B = [1, 2, 3, 4]\n",
    "\n",
    "compare_independence(A, B, n)"
   ]
  },
  {
   "cell_type": "code",
   "execution_count": null,
   "metadata": {},
   "outputs": [],
   "source": []
  }
 ]
}