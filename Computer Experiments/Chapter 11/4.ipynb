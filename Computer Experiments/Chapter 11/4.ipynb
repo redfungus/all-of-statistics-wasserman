{
 "metadata": {
  "language_info": {
   "codemirror_mode": {
    "name": "ipython",
    "version": 3
   },
   "file_extension": ".py",
   "mimetype": "text/x-python",
   "name": "python",
   "nbconvert_exporter": "python",
   "pygments_lexer": "ipython3",
   "version": "3.8.6"
  },
  "orig_nbformat": 4,
  "kernelspec": {
   "name": "python3",
   "display_name": "Python 3.8.6 64-bit"
  },
  "interpreter": {
   "hash": "4cd7ab41f5fca4b9b44701077e38c5ffd31fe66a6cab21e0214b68d958d0e462"
  }
 },
 "nbformat": 4,
 "nbformat_minor": 2,
 "cells": [
  {
   "cell_type": "code",
   "execution_count": 2,
   "metadata": {},
   "outputs": [
    {
     "output_type": "execute_result",
     "data": {
      "text/plain": [
       "DataTransformerRegistry.enable('default')"
      ]
     },
     "metadata": {},
     "execution_count": 2
    }
   ],
   "source": [
    "import numpy as np\n",
    "import altair as alt\n",
    "import pandas as pd\n",
    "import scipy\n",
    "from scipy.stats import norm, lognorm\n",
    "import math\n",
    "alt.data_transformers.disable_max_rows()"
   ]
  },
  {
   "cell_type": "code",
   "execution_count": 3,
   "metadata": {},
   "outputs": [],
   "source": [
    "alpha = 0.1"
   ]
  },
  {
   "cell_type": "code",
   "execution_count": 4,
   "metadata": {},
   "outputs": [],
   "source": [
    "z_alpha_2 = norm.ppf(1-(alpha/2))"
   ]
  },
  {
   "cell_type": "code",
   "execution_count": 5,
   "metadata": {},
   "outputs": [],
   "source": [
    "n1 = 50"
   ]
  },
  {
   "cell_type": "code",
   "execution_count": 6,
   "metadata": {},
   "outputs": [],
   "source": [
    "n2 = 50"
   ]
  },
  {
   "cell_type": "code",
   "execution_count": 7,
   "metadata": {},
   "outputs": [],
   "source": [
    "s1 = 40"
   ]
  },
  {
   "cell_type": "code",
   "execution_count": 8,
   "metadata": {},
   "outputs": [],
   "source": [
    "s2 = 30"
   ]
  },
  {
   "cell_type": "code",
   "execution_count": 9,
   "metadata": {},
   "outputs": [],
   "source": [
    "# MLE analytically computed\n",
    "p1_hat = s1 / n1"
   ]
  },
  {
   "cell_type": "code",
   "execution_count": 10,
   "metadata": {},
   "outputs": [],
   "source": [
    "# MLE analytically computed\n",
    "p2_hat = s2 / n2"
   ]
  },
  {
   "cell_type": "code",
   "execution_count": 11,
   "metadata": {},
   "outputs": [],
   "source": [
    "tau_hat = p2_hat - p1_hat"
   ]
  },
  {
   "cell_type": "code",
   "execution_count": 12,
   "metadata": {},
   "outputs": [],
   "source": [
    "B = 10**4"
   ]
  },
  {
   "cell_type": "code",
   "execution_count": 13,
   "metadata": {},
   "outputs": [],
   "source": [
    "bootstraps = []\n",
    "for i in range(B):\n",
    "    p1_hat_bootstrap = np.mean(np.random.binomial(n=1, p=p1_hat, size=n1))\n",
    "    p2_hat_bootstrap = np.mean(np.random.binomial(n=1, p=p2_hat, size=n2))\n",
    "    tau_hat_bootstrap = p2_hat_bootstrap - p1_hat_bootstrap\n",
    "    bootstraps.append(tau_hat_bootstrap)"
   ]
  },
  {
   "cell_type": "code",
   "execution_count": 14,
   "metadata": {},
   "outputs": [],
   "source": [
    "se_hat = np.std(bootstraps)"
   ]
  },
  {
   "cell_type": "code",
   "execution_count": 15,
   "metadata": {},
   "outputs": [],
   "source": [
    "confidence_interval = (\n",
    "    tau_hat - z_alpha_2 * se_hat, \n",
    "    tau_hat + z_alpha_2 * se_hat\n",
    ")"
   ]
  },
  {
   "cell_type": "code",
   "execution_count": 16,
   "metadata": {},
   "outputs": [
    {
     "output_type": "stream",
     "name": "stdout",
     "text": [
      "Standard Error Estimation: 0.08967972738584791\n"
     ]
    }
   ],
   "source": [
    "print(\"Standard Error Estimation:\", se_hat)"
   ]
  },
  {
   "cell_type": "code",
   "execution_count": 17,
   "metadata": {},
   "outputs": [
    {
     "output_type": "stream",
     "name": "stdout",
     "text": [
      "90.0% Confidence Interval: (0.05248997514536888, 0.3475100248546312)\n"
     ]
    }
   ],
   "source": [
    "print(f\"{(1-alpha)*100}% Confidence Interval:\", confidence_interval)"
   ]
  },
  {
   "cell_type": "code",
   "execution_count": 32,
   "metadata": {},
   "outputs": [],
   "source": [
    "# p1 ~ Beta(s1+1, n1-s1+1)\n",
    "# p2 ~ Beta(s2+1, n2-s2+1)\n",
    "\n",
    "p1_posterior_data = np.random.beta(s1+1, n1-s1+1, size=1000)\n",
    "p2_posterior_data = np.random.beta(s2+1, n2-s2+1, size=1000)\n",
    "tau_data = p2_posterior_data - p1_posterior_data"
   ]
  },
  {
   "cell_type": "code",
   "execution_count": 33,
   "metadata": {},
   "outputs": [],
   "source": [
    "posterior_mean = np.mean(tau_data)"
   ]
  },
  {
   "cell_type": "code",
   "execution_count": 34,
   "metadata": {},
   "outputs": [
    {
     "output_type": "stream",
     "name": "stdout",
     "text": [
      "Simulated Posterior Mean: 0.19025734768248623\n"
     ]
    }
   ],
   "source": [
    "print(\"Simulated Posterior Mean:\", posterior_mean)"
   ]
  },
  {
   "cell_type": "code",
   "execution_count": 35,
   "metadata": {},
   "outputs": [
    {
     "output_type": "stream",
     "name": "stdout",
     "text": [
      "Simulated Confidence Interval: (0.050348844986673184, 0.34445072937367166)\n"
     ]
    }
   ],
   "source": [
    "simulated_confidence_interval = (np.quantile(tau_data, alpha/2), np.quantile(tau_data, 1-(alpha/2)))\n",
    "print(\"Simulated Confidence Interval:\", simulated_confidence_interval)"
   ]
  },
  {
   "cell_type": "code",
   "execution_count": 36,
   "metadata": {},
   "outputs": [],
   "source": [
    "# Part e)"
   ]
  },
  {
   "cell_type": "code",
   "execution_count": 42,
   "metadata": {},
   "outputs": [],
   "source": [
    "psi_data = np.log((p2_posterior_data / (1 - p2_posterior_data)) / (p1_posterior_data / (1 - p1_posterior_data)))\n"
   ]
  },
  {
   "cell_type": "code",
   "execution_count": 43,
   "metadata": {},
   "outputs": [],
   "source": [
    "psi_mean_hat = psi_data.mean()\n"
   ]
  },
  {
   "cell_type": "code",
   "execution_count": 44,
   "metadata": {},
   "outputs": [],
   "source": [
    "psi_simulated_confidence_interval = (np.quantile(psi_data, alpha/2), np.quantile(psi_data, 1-(alpha/2)))\n"
   ]
  },
  {
   "cell_type": "code",
   "execution_count": 45,
   "metadata": {},
   "outputs": [
    {
     "output_type": "stream",
     "name": "stdout",
     "text": [
      "Simulated Posterior Mean: -0.9413800528768976\n"
     ]
    }
   ],
   "source": [
    "print(\"Simulated Posterior Mean:\", psi_mean_hat)"
   ]
  },
  {
   "cell_type": "code",
   "execution_count": 46,
   "metadata": {},
   "outputs": [
    {
     "output_type": "stream",
     "name": "stdout",
     "text": [
      "Simulated Confidence Interval: (-1.7378943193317054, -0.2371447965040797)\n"
     ]
    }
   ],
   "source": [
    "print(\"Simulated Confidence Interval:\", psi_simulated_confidence_interval)"
   ]
  },
  {
   "cell_type": "code",
   "execution_count": null,
   "metadata": {},
   "outputs": [],
   "source": []
  }
 ]
}